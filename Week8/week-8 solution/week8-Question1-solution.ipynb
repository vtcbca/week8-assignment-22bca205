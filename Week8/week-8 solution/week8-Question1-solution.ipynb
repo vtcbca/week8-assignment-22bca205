{
 "cells": [
  {
   "cell_type": "markdown",
   "id": "be9ebeeb-dc1f-49a2-b683-14f8a413ebdc",
   "metadata": {},
   "source": [
    "### create csv file for product selling for 6 months and add at-least 5 records for 5 different products"
   ]
  },
  {
   "cell_type": "markdown",
   "id": "8f5c23e8-5f24-4eb1-9af0-45cf50449574",
   "metadata": {},
   "source": [
    "### (prod_Name,Jan,Feb,Mar,Apr,May,Jun)"
   ]
  },
  {
   "cell_type": "code",
   "execution_count": 10,
   "id": "f61a2197-a9ba-47d9-afdc-090b8526966d",
   "metadata": {},
   "outputs": [],
   "source": [
    "import csv "
   ]
  },
  {
   "cell_type": "code",
   "execution_count": 11,
   "id": "e1bb2c34-8bff-45e2-92bb-4dbdb7156c5c",
   "metadata": {},
   "outputs": [],
   "source": [
    "data = [\n",
    "    [\"Prod_Name\", \"Jan\", \"Feb\", \"Mar\", \"Apr\", \"May\", \"Jun\"],\n",
    "    [\"Product A\", 100, 120, 150, 200, 180, 220],\n",
    "    [\"Product B\", 80, 90, 100, 110, 120, 130],\n",
    "    [\"Product C\", 50, 55, 60, 65, 70, 75],\n",
    "    [\"Product D\", 200, 210, 220, 230, 240, 250],\n",
    "    [\"Product E\", 75, 80, 85, 90, 95, 100],\n",
    "]"
   ]
  },
  {
   "cell_type": "code",
   "execution_count": 12,
   "id": "b5ec7ef7-6e8d-4a98-a3bd-c861311ab301",
   "metadata": {},
   "outputs": [
    {
     "name": "stdout",
     "output_type": "stream",
     "text": [
      "CSV file 'product_sales.csv' has been created.\n"
     ]
    }
   ],
   "source": [
    "with open('product_sales.csv', 'w', newline='') as csv_file:\n",
    "    csv_writer = csv.writer(csv_file)\n",
    "    csv_writer.writerows(data)\n",
    "\n",
    "print(\"CSV file 'product_sales.csv' has been created.\")"
   ]
  },
  {
   "cell_type": "code",
   "execution_count": 13,
   "id": "0b6444c0-44f2-4ecf-95f4-3c3246c4197c",
   "metadata": {},
   "outputs": [],
   "source": [
    "def read_csv_file(filename):\n",
    "    data = []\n",
    "    with open(filename, 'r') as csv_file:\n",
    "        csv_reader = csv.DictReader(csv_file)\n",
    "        for row in csv_reader:\n",
    "            data.append(row)\n",
    "        return data"
   ]
  },
  {
   "cell_type": "code",
   "execution_count": 14,
   "id": "c1b9e129-2a70-4fe2-947b-713d73ce5be7",
   "metadata": {},
   "outputs": [],
   "source": [
    "def calculate_total_sales(data, month):\n",
    "    total_sales = 0\n",
    "    for row in data:\n",
    "        total_sales += int(row[month])\n",
    "    return total_sales"
   ]
  },
  {
   "cell_type": "code",
   "execution_count": 11,
   "id": "27821057-18a2-4c85-8ff2-7d4d21015358",
   "metadata": {},
   "outputs": [],
   "source": [
    "def find_best_selling_product(data, month):\n",
    "    max_sales = 0\n",
    "    best_product = \"\"\n",
    "    for row in data:\n",
    "        if int(row[month]) > max_sales:\n",
    "            max_sales = int(row[month])\n",
    "            best_product = row[\"Prod_Name\"]\n",
    "    return best_product, max_sales"
   ]
  },
  {
   "cell_type": "markdown",
   "id": "4ca78b62-844f-4ccb-982e-eaa6b4aa8fc7",
   "metadata": {},
   "source": [
    "### Read the CSV file"
   ]
  },
  {
   "cell_type": "code",
   "execution_count": 12,
   "id": "c47e2f59-46cf-442c-8f21-d81bd10c4150",
   "metadata": {},
   "outputs": [],
   "source": [
    "filename = 'product_sales.csv'\n",
    "data = read_csv_file(filename)"
   ]
  },
  {
   "cell_type": "markdown",
   "id": "a0660272-8743-4d22-b0af-2798a5431f9b",
   "metadata": {},
   "source": [
    "### Calculate and display total sales for January"
   ]
  },
  {
   "cell_type": "code",
   "execution_count": 13,
   "id": "417ac2d1-64bb-4dcf-89ee-e08b8c4c74b6",
   "metadata": {},
   "outputs": [
    {
     "name": "stdout",
     "output_type": "stream",
     "text": [
      "Total sales for January: 505\n"
     ]
    }
   ],
   "source": [
    "jan_total_sales = calculate_total_sales(data, \"Jan\")\n",
    "print(f\"Total sales for January: {jan_total_sales}\")"
   ]
  },
  {
   "cell_type": "markdown",
   "id": "a8b9fab3-f4b2-476f-b2d7-80db12787a29",
   "metadata": {},
   "source": [
    "### Find and display the best-selling product for February"
   ]
  },
  {
   "cell_type": "code",
   "execution_count": 14,
   "id": "e14d0b15-93ae-41cd-8e66-a1384a71f54d",
   "metadata": {},
   "outputs": [
    {
     "name": "stdout",
     "output_type": "stream",
     "text": [
      "Best-selling product in February: Product D (Sales: 210)\n"
     ]
    }
   ],
   "source": [
    "best_product_feb, sales_feb = find_best_selling_product(data, \"Feb\")\n",
    "print(f\"Best-selling product in February: {best_product_feb} (Sales: {sales_feb})\")"
   ]
  },
  {
   "cell_type": "markdown",
   "id": "dd471e71-449d-4f50-ae8b-4b52697996ee",
   "metadata": {},
   "source": [
    "### A.Read data in Dataframe."
   ]
  },
  {
   "cell_type": "code",
   "execution_count": 15,
   "id": "d7c6dc8b-4e6f-4c48-bb6f-c6625f092bac",
   "metadata": {},
   "outputs": [],
   "source": [
    "import pandas as pd"
   ]
  },
  {
   "cell_type": "code",
   "execution_count": 19,
   "id": "3332307f-18bb-4799-a1ed-9246f3b25115",
   "metadata": {},
   "outputs": [
    {
     "data": {
      "text/html": [
       "<div>\n",
       "<style scoped>\n",
       "    .dataframe tbody tr th:only-of-type {\n",
       "        vertical-align: middle;\n",
       "    }\n",
       "\n",
       "    .dataframe tbody tr th {\n",
       "        vertical-align: top;\n",
       "    }\n",
       "\n",
       "    .dataframe thead th {\n",
       "        text-align: right;\n",
       "    }\n",
       "</style>\n",
       "<table border=\"1\" class=\"dataframe\">\n",
       "  <thead>\n",
       "    <tr style=\"text-align: right;\">\n",
       "      <th></th>\n",
       "      <th>Prod_Name</th>\n",
       "      <th>Jan</th>\n",
       "      <th>Feb</th>\n",
       "      <th>Mar</th>\n",
       "      <th>Apr</th>\n",
       "      <th>May</th>\n",
       "      <th>Jun</th>\n",
       "    </tr>\n",
       "  </thead>\n",
       "  <tbody>\n",
       "    <tr>\n",
       "      <th>0</th>\n",
       "      <td>Product A</td>\n",
       "      <td>100</td>\n",
       "      <td>120</td>\n",
       "      <td>150</td>\n",
       "      <td>200</td>\n",
       "      <td>180</td>\n",
       "      <td>220</td>\n",
       "    </tr>\n",
       "    <tr>\n",
       "      <th>1</th>\n",
       "      <td>Product B</td>\n",
       "      <td>80</td>\n",
       "      <td>90</td>\n",
       "      <td>100</td>\n",
       "      <td>110</td>\n",
       "      <td>120</td>\n",
       "      <td>130</td>\n",
       "    </tr>\n",
       "    <tr>\n",
       "      <th>2</th>\n",
       "      <td>Product C</td>\n",
       "      <td>50</td>\n",
       "      <td>55</td>\n",
       "      <td>60</td>\n",
       "      <td>65</td>\n",
       "      <td>70</td>\n",
       "      <td>75</td>\n",
       "    </tr>\n",
       "    <tr>\n",
       "      <th>3</th>\n",
       "      <td>Product D</td>\n",
       "      <td>200</td>\n",
       "      <td>210</td>\n",
       "      <td>220</td>\n",
       "      <td>230</td>\n",
       "      <td>240</td>\n",
       "      <td>250</td>\n",
       "    </tr>\n",
       "    <tr>\n",
       "      <th>4</th>\n",
       "      <td>Product E</td>\n",
       "      <td>75</td>\n",
       "      <td>80</td>\n",
       "      <td>85</td>\n",
       "      <td>90</td>\n",
       "      <td>95</td>\n",
       "      <td>100</td>\n",
       "    </tr>\n",
       "  </tbody>\n",
       "</table>\n",
       "</div>"
      ],
      "text/plain": [
       "   Prod_Name  Jan  Feb  Mar  Apr  May  Jun\n",
       "0  Product A  100  120  150  200  180  220\n",
       "1  Product B   80   90  100  110  120  130\n",
       "2  Product C   50   55   60   65   70   75\n",
       "3  Product D  200  210  220  230  240  250\n",
       "4  Product E   75   80   85   90   95  100"
      ]
     },
     "execution_count": 19,
     "metadata": {},
     "output_type": "execute_result"
    }
   ],
   "source": [
    "df = pd.read_csv('product_sales.csv')\n",
    "df"
   ]
  },
  {
   "cell_type": "markdown",
   "id": "9bea423c-4e42-46da-b1b9-ec61f4eb4b67",
   "metadata": {},
   "source": [
    "### B.Add columns and calculate total_sell, average_sell."
   ]
  },
  {
   "cell_type": "code",
   "execution_count": 3,
   "id": "63696b3c-eb9d-44b7-a675-b6a82056f202",
   "metadata": {},
   "outputs": [],
   "source": [
    "import pandas as pd"
   ]
  },
  {
   "cell_type": "code",
   "execution_count": 4,
   "id": "69de673e-f9fc-408f-950d-54a8372323f6",
   "metadata": {},
   "outputs": [
    {
     "data": {
      "text/html": [
       "<div>\n",
       "<style scoped>\n",
       "    .dataframe tbody tr th:only-of-type {\n",
       "        vertical-align: middle;\n",
       "    }\n",
       "\n",
       "    .dataframe tbody tr th {\n",
       "        vertical-align: top;\n",
       "    }\n",
       "\n",
       "    .dataframe thead th {\n",
       "        text-align: right;\n",
       "    }\n",
       "</style>\n",
       "<table border=\"1\" class=\"dataframe\">\n",
       "  <thead>\n",
       "    <tr style=\"text-align: right;\">\n",
       "      <th></th>\n",
       "      <th>Prod_Name</th>\n",
       "      <th>Jan</th>\n",
       "      <th>Feb</th>\n",
       "      <th>Mar</th>\n",
       "      <th>Apr</th>\n",
       "      <th>May</th>\n",
       "      <th>Jun</th>\n",
       "      <th>total_sell</th>\n",
       "      <th>average_sell</th>\n",
       "    </tr>\n",
       "  </thead>\n",
       "  <tbody>\n",
       "    <tr>\n",
       "      <th>0</th>\n",
       "      <td>Product A</td>\n",
       "      <td>100</td>\n",
       "      <td>120</td>\n",
       "      <td>150</td>\n",
       "      <td>200</td>\n",
       "      <td>180</td>\n",
       "      <td>220</td>\n",
       "      <td>970</td>\n",
       "      <td>277.142857</td>\n",
       "    </tr>\n",
       "    <tr>\n",
       "      <th>1</th>\n",
       "      <td>Product B</td>\n",
       "      <td>80</td>\n",
       "      <td>90</td>\n",
       "      <td>100</td>\n",
       "      <td>110</td>\n",
       "      <td>120</td>\n",
       "      <td>130</td>\n",
       "      <td>630</td>\n",
       "      <td>180.000000</td>\n",
       "    </tr>\n",
       "    <tr>\n",
       "      <th>2</th>\n",
       "      <td>Product C</td>\n",
       "      <td>50</td>\n",
       "      <td>55</td>\n",
       "      <td>60</td>\n",
       "      <td>65</td>\n",
       "      <td>70</td>\n",
       "      <td>75</td>\n",
       "      <td>375</td>\n",
       "      <td>107.142857</td>\n",
       "    </tr>\n",
       "    <tr>\n",
       "      <th>3</th>\n",
       "      <td>Product D</td>\n",
       "      <td>200</td>\n",
       "      <td>210</td>\n",
       "      <td>220</td>\n",
       "      <td>230</td>\n",
       "      <td>240</td>\n",
       "      <td>250</td>\n",
       "      <td>1350</td>\n",
       "      <td>385.714286</td>\n",
       "    </tr>\n",
       "    <tr>\n",
       "      <th>4</th>\n",
       "      <td>Product E</td>\n",
       "      <td>75</td>\n",
       "      <td>80</td>\n",
       "      <td>85</td>\n",
       "      <td>90</td>\n",
       "      <td>95</td>\n",
       "      <td>100</td>\n",
       "      <td>525</td>\n",
       "      <td>150.000000</td>\n",
       "    </tr>\n",
       "  </tbody>\n",
       "</table>\n",
       "</div>"
      ],
      "text/plain": [
       "   Prod_Name  Jan  Feb  Mar  Apr  May  Jun  total_sell  average_sell\n",
       "0  Product A  100  120  150  200  180  220         970    277.142857\n",
       "1  Product B   80   90  100  110  120  130         630    180.000000\n",
       "2  Product C   50   55   60   65   70   75         375    107.142857\n",
       "3  Product D  200  210  220  230  240  250        1350    385.714286\n",
       "4  Product E   75   80   85   90   95  100         525    150.000000"
      ]
     },
     "execution_count": 4,
     "metadata": {},
     "output_type": "execute_result"
    }
   ],
   "source": [
    "df = pd.read_csv('product_sales.csv')\n",
    "df['total_sell'] = df.sum(axis=1, numeric_only=True)\n",
    "df['average_sell'] = df.iloc[:, 1:].mean(axis=1)\n",
    "df"
   ]
  },
  {
   "cell_type": "markdown",
   "id": "2d48d06c-ac88-4539-9595-66e3918af8b8",
   "metadata": {},
   "source": [
    "### C.Plot Total sell and average sell together on line chart with proper Legends, titles and lables. "
   ]
  },
  {
   "cell_type": "code",
   "execution_count": 5,
   "id": "3a02a2d2-a5a1-44e5-b5b5-fb94bb542538",
   "metadata": {},
   "outputs": [],
   "source": [
    "import pandas as pd\n",
    "import matplotlib.pyplot as plt"
   ]
  },
  {
   "cell_type": "code",
   "execution_count": 6,
   "id": "30f2aecf-36fb-4e84-bddd-a8fcd82fce8d",
   "metadata": {},
   "outputs": [
    {
     "data": {
      "image/png": "[encoded data removed]",
      "text/plain": [
       "<Figure size 1000x600 with 1 Axes>"
      ]
     },
     "metadata": {},
     "output_type": "display_data"
    }
   ],
   "source": [
    "df = pd.read_csv('product_sales.csv')\n",
    "df['total_sell'] = df.sum(axis=1, numeric_only=True)\n",
    "df['average_sell'] = df.iloc[:, 1:].mean(axis=1)\n",
    "plt.figure(figsize=(10, 6))  # Set the figure size\n",
    "plt.plot(df['Prod_Name'], df['total_sell'], label='Total Sell', marker='o')\n",
    "plt.plot(df['Prod_Name'], df['average_sell'], label='Average Sell', marker='o')\n",
    "plt.xlabel('Products')\n",
    "plt.ylabel('Sales')\n",
    "plt.title('Total Sell and Average Sell for Products')\n",
    "plt.xticks(rotation=45)\n",
    "plt.legend()\n",
    "plt.grid(True)\n",
    "plt.tight_layout()\n",
    "plt.show()"
   ]
  },
  {
   "cell_type": "markdown",
   "id": "a80b56df-3dbb-4b8f-bc45-804b45717f6f",
   "metadata": {},
   "source": [
    "### D.Explain final dataframe to csv named sell_analysis.csv "
   ]
  },
  {
   "cell_type": "code",
   "execution_count": 7,
   "id": "aea3da25-a916-4c83-8440-fa24a3bbb18f",
   "metadata": {},
   "outputs": [],
   "source": [
    "import pandas as pd"
   ]
  },
  {
   "cell_type": "code",
   "execution_count": 9,
   "id": "33d4b5e3-ae28-4e85-b94f-6d7d8ff26617",
   "metadata": {},
   "outputs": [
    {
     "name": "stdout",
     "output_type": "stream",
     "text": [
      "DataFrame saved to 'sell_analysis.csv'\n"
     ]
    }
   ],
   "source": [
    "df = pd.read_csv('product_sales.csv')\n",
    "df['total_sell'] = df.sum(axis=1, numeric_only=True)\n",
    "df['average_sell'] = df.iloc[:, 1:].mean(axis=1)\n",
    "df.to_csv('sell_analysis.csv', index=False)\n",
    "print(\"DataFrame saved to 'sell_analysis.csv'\")"
   ]
  },
  {
   "cell_type": "code",
   "execution_count": null,
   "id": "7b02f602-60f1-4d05-a1b9-babfbf2531d0",
   "metadata": {},
   "outputs": [],
   "source": []
  }
 ],
 "metadata": {
  "kernelspec": {
   "display_name": "Python 3 (ipykernel)",
   "language": "python",
   "name": "python3"
  },
  "language_info": {
   "codemirror_mode": {
    "name": "ipython",
    "version": 3
   },
   "file_extension": ".py",
   "mimetype": "text/x-python",
   "name": "python",
   "nbconvert_exporter": "python",
   "pygments_lexer": "ipython3",
   "version": "3.9.6"
  }
 },
 "nbformat": 4,
 "nbformat_minor": 5
}
